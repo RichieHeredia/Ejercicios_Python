{
 "cells": [
  {
   "cell_type": "markdown",
   "id": "931a0c70",
   "metadata": {},
   "source": [
    "## 1. LISTAS en Python\n",
    "\n",
    "> Video: "
   ]
  },
  {
   "cell_type": "markdown",
   "id": "e4ca23d8",
   "metadata": {},
   "source": [
    "### 1.1 Ejercicio de nivel fácil - Suma de elementos en una lista:\n",
    "\n",
    "* Explicación del ejercicio: Dada una lista de números, se debe calcular la suma de todos los elementos.\n",
    "\n",
    "* Parámetros de entrada:\n",
    "\n",
    " > **'lista_numeros' (lista)**: Una lista de números.\n",
    "\n",
    "Ejemplo:"
   ]
  },
  {
   "cell_type": "code",
   "execution_count": null,
   "id": "8606f3ef",
   "metadata": {},
   "outputs": [],
   "source": [
    "lista_numeros = [10, 20, 30, 40, 50]"
   ]
  },
  {
   "cell_type": "markdown",
   "id": "83ad3d87",
   "metadata": {},
   "source": [
    "### Salida esperada:\n",
    "La suma de los elementos es: 150"
   ]
  },
  {
   "cell_type": "markdown",
   "id": "d80ee0a6",
   "metadata": {},
   "source": [
    "### Solución: "
   ]
  },
  {
   "cell_type": "code",
   "execution_count": null,
   "id": "854d5f4e",
   "metadata": {},
   "outputs": [],
   "source": [
    "suma = sum(lista_numeros)\n",
    "print(\"La suma de los elementos es:\", suma)"
   ]
  },
  {
   "cell_type": "markdown",
   "id": "14b621a2",
   "metadata": {},
   "source": [
    "### Ejercicio de nivel medio - Eliminación de elementos duplicados:\n",
    "\n",
    "* Explicación del ejercicio: Dada una lista de números, se debe eliminar todos los elementos duplicados y obtener una lista con valores únicos.\n",
    "\n",
    "* Parámetros de entrada:\n",
    "    > **lista_numeros (lista):** Una lista de números.\n",
    "\n",
    "Ejemplo:"
   ]
  },
  {
   "cell_type": "code",
   "execution_count": null,
   "id": "8cc4cea8",
   "metadata": {},
   "outputs": [],
   "source": [
    "lista_numeros = [10, 20, 10, 30, 40, 20, 50]"
   ]
  },
  {
   "cell_type": "markdown",
   "id": "36e0da20",
   "metadata": {},
   "source": [
    "#### Salida esperada:\n",
    "Lista sin duplicados: [40, 10, 50, 20, 30]"
   ]
  },
  {
   "cell_type": "markdown",
   "id": "5fd816ca",
   "metadata": {},
   "source": [
    "### Solución"
   ]
  },
  {
   "cell_type": "code",
   "execution_count": null,
   "id": "a623ff10",
   "metadata": {},
   "outputs": [],
   "source": [
    "lista_sin_duplicados = list(set(lista_numeros))\n",
    "print(\"Lista sin duplicados:\", lista_sin_duplicados)"
   ]
  },
  {
   "cell_type": "markdown",
   "id": "36d379ee",
   "metadata": {},
   "source": [
    "### Ejercicio de nivel difícil - Combinación de listas:\n",
    "\n",
    "* Explicación del ejercicio: Dadas dos listas de nombres, se deben generar todas las combinaciones posibles entre los nombres de ambas listas. Cada combinación debe contener un nombre de la primera lista y un nombre de la segunda lista.\n",
    "\n",
    "* Parámetros de entrada:\n",
    "\n",
    "    > **lista_nombres1 (lista):** Una lista de nombres. <br>\n",
    "    > **lista_nombres2 (lista):** Otra lista de nombres.\n",
    "        \n",
    "Ejemplo:"
   ]
  },
  {
   "cell_type": "code",
   "execution_count": null,
   "id": "d101947c",
   "metadata": {},
   "outputs": [],
   "source": [
    "lista_nombres1 = ['Ana', 'Juan', 'Pedro']\n",
    "lista_nombres2 = ['María', 'Luis', 'Sofía']"
   ]
  },
  {
   "cell_type": "markdown",
   "id": "a40f960c",
   "metadata": {},
   "source": [
    "### Salida esperada:\n",
    "\n",
    "Combinaciones de nombres:\n",
    "\n",
    "('Ana', 'María') <br> \n",
    "('Ana', 'Luis') <br> \n",
    "('Ana', 'Sofía') <br>\n",
    "('Juan', 'María') <br>\n",
    "('Juan', 'Luis')<br>\n",
    "('Juan', 'Sofía')<br>\n",
    "('Pedro', 'María')<br>\n",
    "('Pedro', 'Luis')<br>\n",
    "('Pedro', 'Sofía')"
   ]
  },
  {
   "cell_type": "markdown",
   "id": "90d17044",
   "metadata": {},
   "source": [
    "### Solucion:"
   ]
  },
  {
   "cell_type": "code",
   "execution_count": null,
   "id": "331e756c",
   "metadata": {},
   "outputs": [],
   "source": [
    "combinaciones = [(nombre1, nombre2) for nombre1 in lista_nombres1 for nombre2 in lista_nombres2]\n",
    "print(\"Combinaciones de nombres:\")\n",
    "for combinacion in combinaciones:\n",
    "    print(combinacion)"
   ]
  }
 ],
 "metadata": {
  "kernelspec": {
   "display_name": "Python 3 (ipykernel)",
   "language": "python",
   "name": "python3"
  },
  "language_info": {
   "codemirror_mode": {
    "name": "ipython",
    "version": 3
   },
   "file_extension": ".py",
   "mimetype": "text/x-python",
   "name": "python",
   "nbconvert_exporter": "python",
   "pygments_lexer": "ipython3",
   "version": "3.10.10"
  }
 },
 "nbformat": 4,
 "nbformat_minor": 5
}
